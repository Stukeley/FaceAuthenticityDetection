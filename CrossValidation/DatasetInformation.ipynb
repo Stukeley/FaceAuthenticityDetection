{
 "cells": [
  {
   "cell_type": "code",
   "id": "initial_id",
   "metadata": {
    "collapsed": true,
    "ExecuteTime": {
     "end_time": "2025-03-11T09:40:58.673384Z",
     "start_time": "2025-03-11T09:40:58.632710Z"
    }
   },
   "source": [
    "# Załadowanie zbiorów danych, wykrycie twarzy i wypisanie łącznej ilości obrazów z podziałem na klasy\n",
    "import cv2\n",
    "import cv2.data\n",
    "import os\n",
    "\n",
    "face_cascade = cv2.CascadeClassifier(cv2.data.haarcascades + 'haarcascade_frontalface_default.xml')\n",
    "\n",
    "def detect_faces(img):\n",
    "    faces = face_cascade.detectMultiScale(img, 1.3, 5, minSize=(30, 30))\n",
    "    return len(faces)"
   ],
   "outputs": [],
   "execution_count": 9
  },
  {
   "metadata": {
    "ExecuteTime": {
     "end_time": "2025-03-11T09:41:02.789243Z",
     "start_time": "2025-03-11T09:40:59.033828Z"
    }
   },
   "cell_type": "code",
   "source": [
    "# 1. \"small dataset\"\n",
    "auth_path = \"../Dane/PP-RAI/4 - small dataset/authentic\"\n",
    "spoof_path = \"../Dane/PP-RAI/4 - small dataset/spoof\"\n",
    "\n",
    "auth_images = []\n",
    "auth_count = 0\n",
    "spoof_images = []\n",
    "spoof_count = 0\n",
    "\n",
    "for filename in os.listdir(auth_path):\n",
    "    img = cv2.imread(os.path.join(auth_path, filename))\n",
    "    if img is not None:\n",
    "        auth_images.append(img)\n",
    "\n",
    "for filename in os.listdir(spoof_path):\n",
    "    img = cv2.imread(os.path.join(spoof_path, filename))\n",
    "    if img is not None:\n",
    "        spoof_images.append(img)\n",
    "        \n",
    "for img in auth_images:\n",
    "    faces = detect_faces(img)\n",
    "    if faces > 0:\n",
    "        auth_count += 1\n",
    "\n",
    "for img in spoof_images:\n",
    "    faces = detect_faces(img)\n",
    "    if faces > 0:\n",
    "        spoof_count += 1\n",
    "        \n",
    "print(\"Total images: \", len(auth_images) + len(spoof_images))\n",
    "print(\"Total authentic images: \", len(auth_images))\n",
    "print(\"Total spoof images: \", len(spoof_images))"
   ],
   "id": "a12366f508e8e81b",
   "outputs": [
    {
     "name": "stdout",
     "output_type": "stream",
     "text": [
      "Total images:  477\n",
      "Total authentic images:  243\n",
      "Total spoof images:  234\n"
     ]
    }
   ],
   "execution_count": 10
  },
  {
   "metadata": {
    "ExecuteTime": {
     "end_time": "2025-03-11T09:37:05.242719Z",
     "start_time": "2025-03-11T09:36:56.084763Z"
    }
   },
   "cell_type": "code",
   "source": [
    "# 2. \"our\" dataset\n",
    "auth_path = \"../Dane/PP-RAI/1 - our dataset/authentic\"\n",
    "spoof_path = \"../Dane/PP-RAI/1 - our dataset/spoof\"\n",
    "\n",
    "auth_images = []\n",
    "auth_count = 0\n",
    "spoof_images = []\n",
    "spoof_count = 0\n",
    "\n",
    "for filename in os.listdir(auth_path):\n",
    "    img = cv2.imread(os.path.join(auth_path, filename))\n",
    "    if img is not None:\n",
    "        auth_images.append(img)\n",
    "\n",
    "for filename in os.listdir(spoof_path):\n",
    "    img = cv2.imread(os.path.join(spoof_path, filename))\n",
    "    if img is not None:\n",
    "        spoof_images.append(img)\n",
    "\n",
    "for img in auth_images:\n",
    "    faces = detect_faces(img)\n",
    "    if faces > 0:\n",
    "        auth_count += 1\n",
    "\n",
    "for img in spoof_images:\n",
    "    faces = detect_faces(img)\n",
    "    if faces > 0:\n",
    "        spoof_count += 1\n",
    "\n",
    "print(\"Total images: \", len(auth_images) + len(spoof_images))\n",
    "print(\"Total authentic images: \", len(auth_images))\n",
    "print(\"Total spoof images: \", len(spoof_images))"
   ],
   "id": "770682674e5024e3",
   "outputs": [
    {
     "name": "stdout",
     "output_type": "stream",
     "text": [
      "Total images:  1678\n",
      "Total authentic images:  839\n",
      "Total spoof images:  839\n"
     ]
    }
   ],
   "execution_count": 4
  },
  {
   "metadata": {
    "ExecuteTime": {
     "end_time": "2025-03-11T09:37:49.703438Z",
     "start_time": "2025-03-11T09:37:05.253756Z"
    }
   },
   "cell_type": "code",
   "source": [
    "# 3. \"open\" dataset\n",
    "auth_path = \"../Dane/PP-RAI/2 - open dataset/authentic\"\n",
    "spoof_path = \"../Dane/PP-RAI/2 - open dataset/spoof\"\n",
    "\n",
    "auth_images = []\n",
    "auth_count = 0\n",
    "spoof_images = []\n",
    "spoof_count = 0\n",
    "\n",
    "for filename in os.listdir(auth_path):\n",
    "    img = cv2.imread(os.path.join(auth_path, filename))\n",
    "    if img is not None:\n",
    "        auth_images.append(img)\n",
    "\n",
    "for filename in os.listdir(spoof_path):\n",
    "    img = cv2.imread(os.path.join(spoof_path, filename))\n",
    "    if img is not None:\n",
    "        spoof_images.append(img)\n",
    "\n",
    "for img in auth_images:\n",
    "    faces = detect_faces(img)\n",
    "    if faces > 0:\n",
    "        auth_count += 1\n",
    "\n",
    "for img in spoof_images:\n",
    "    faces = detect_faces(img)\n",
    "    if faces > 0:\n",
    "        spoof_count += 1\n",
    "\n",
    "print(\"Total images: \", len(auth_images) + len(spoof_images))\n",
    "print(\"Total authentic images: \", len(auth_images))\n",
    "print(\"Total spoof images: \", len(spoof_images))"
   ],
   "id": "2e15631223b11a3d",
   "outputs": [
    {
     "name": "stdout",
     "output_type": "stream",
     "text": [
      "Total images:  1666\n",
      "Total authentic images:  779\n",
      "Total spoof images:  887\n"
     ]
    }
   ],
   "execution_count": 5
  }
 ],
 "metadata": {
  "kernelspec": {
   "display_name": "Python 3",
   "language": "python",
   "name": "python3"
  },
  "language_info": {
   "codemirror_mode": {
    "name": "ipython",
    "version": 2
   },
   "file_extension": ".py",
   "mimetype": "text/x-python",
   "name": "python",
   "nbconvert_exporter": "python",
   "pygments_lexer": "ipython2",
   "version": "2.7.6"
  }
 },
 "nbformat": 4,
 "nbformat_minor": 5
}
