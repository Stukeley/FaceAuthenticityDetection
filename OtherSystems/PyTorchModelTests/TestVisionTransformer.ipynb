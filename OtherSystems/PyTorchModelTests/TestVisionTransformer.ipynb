{
 "cells": [
  {
   "cell_type": "code",
   "id": "initial_id",
   "metadata": {
    "collapsed": true,
    "ExecuteTime": {
     "end_time": "2025-03-01T17:54:14.474045Z",
     "start_time": "2025-03-01T17:54:11.794353Z"
    }
   },
   "source": [
    "import torch\n",
    "from torch import nn, optim\n",
    "from torch.utils.data import DataLoader\n",
    "from torchvision import transforms, models\n",
    "from torchvision.io import decode_image\n",
    "from sklearn.model_selection import KFold\n",
    "import numpy as np\n",
    "import os\n",
    "import cv2\n",
    "from PIL import Image"
   ],
   "outputs": [],
   "execution_count": 1
  },
  {
   "metadata": {
    "ExecuteTime": {
     "end_time": "2025-03-01T17:54:14.659350Z",
     "start_time": "2025-03-01T17:54:14.546661Z"
    }
   },
   "cell_type": "code",
   "source": [
    "# Prepare the data - create a KFold split\n",
    "random_seed = 42\n",
    "np.random.seed(random_seed)\n",
    "torch.manual_seed(random_seed)\n",
    "\n",
    "# \"Large Crowdcollected\" dataset\n",
    "authentic_path = \"dane/Large Crowdcollected/authentic\"\n",
    "spoof_path = \"dane/Large Crowdcollected/spoof\"\n",
    "\n",
    "# Load images\n",
    "authentic_images = [os.path.join(authentic_path, img) for img in os.listdir(authentic_path)]\n",
    "spoof_images = [os.path.join(spoof_path, img) for img in os.listdir(spoof_path)]\n",
    "\n",
    "# Create X and y from all images\n",
    "X = authentic_images + spoof_images\n",
    "y = np.concatenate((np.zeros(len(authentic_images)), np.ones(len(spoof_images)))).astype(np.int64)\n",
    "\n",
    "# KFold\n",
    "kf = KFold(n_splits=5, random_state=random_seed, shuffle=True)"
   ],
   "id": "44e5a253e3e6ac9f",
   "outputs": [],
   "execution_count": 2
  },
  {
   "metadata": {
    "ExecuteTime": {
     "end_time": "2025-03-01T17:54:14.748799Z",
     "start_time": "2025-03-01T17:54:14.745416Z"
    }
   },
   "cell_type": "code",
   "source": [
    "# Custom dataset to load images and labels\n",
    "class OurDataset(torch.utils.data.Dataset):\n",
    "    def __init__(self, image_paths, labels, transform=None):\n",
    "        self.image_paths = image_paths\n",
    "        self.labels = labels\n",
    "        self.transform = transform\n",
    "\n",
    "    def __len__(self):\n",
    "        return len(self.image_paths)\n",
    "\n",
    "    def __getitem__(self, idx):\n",
    "        image_path = self.image_paths[idx]\n",
    "        image = Image.open(image_path).convert(\"RGB\")\n",
    "        label = self.labels[idx]\n",
    "\n",
    "        if self.transform:\n",
    "            image = self.transform(image)\n",
    "\n",
    "        return image, label, image_path  # Return image, label, and file path"
   ],
   "id": "58e969d6462aab",
   "outputs": [],
   "execution_count": 3
  },
  {
   "cell_type": "code",
   "source": [
    "# Create a text file to store incorrect predictions\n",
    "with open(\"incorrect_predictions_visiontransformer.txt\", \"w\") as f:\n",
    "    f.write(\"name\\tpredicted\\tactual\\n\")\n",
    "    f.write(\"(0 - authentic, 1 - spoof)\\n\")"
   ],
   "metadata": {
    "collapsed": false,
    "ExecuteTime": {
     "end_time": "2025-03-01T17:54:14.757207Z",
     "start_time": "2025-03-01T17:54:14.753833Z"
    }
   },
   "id": "249334494936d44f",
   "outputs": [],
   "execution_count": 4
  },
  {
   "metadata": {
    "ExecuteTime": {
     "end_time": "2025-03-01T17:54:14.775039Z",
     "start_time": "2025-03-01T17:54:14.772690Z"
    }
   },
   "cell_type": "code",
   "source": [
    "# Create a transform to resize images\n",
    "transform = transforms.Compose([\n",
    "    transforms.Resize((224, 224)),\n",
    "    transforms.ToTensor(),\n",
    "])"
   ],
   "id": "5b20da1bf11aa0de",
   "outputs": [],
   "execution_count": 5
  },
  {
   "metadata": {
    "pycharm": {
     "is_executing": true
    },
    "ExecuteTime": {
     "end_time": "2025-03-02T06:44:46.472286Z",
     "start_time": "2025-03-01T17:54:14.824347Z"
    }
   },
   "cell_type": "code",
   "source": [
    "# Create, test and evaluate the model for each fold\n",
    "for fold, (train_idx, test_idx) in enumerate(kf.split(X)):\n",
    "    print(f\"Fold {fold}\")\n",
    "    X_train = [X[i] for i in train_idx]\n",
    "    y_train = y[train_idx]\n",
    "    X_test = [X[i] for i in test_idx]\n",
    "    y_test = y[test_idx]\n",
    "    \n",
    "    # Create custom datasets\n",
    "    train_dataset = OurDataset(X_train, y_train, transform=transform)\n",
    "    test_dataset = OurDataset(X_test, y_test, transform=transform)\n",
    "    \n",
    "    # Create dataloaders\n",
    "    train_loader = DataLoader(train_dataset, batch_size=32, shuffle=True)\n",
    "    test_loader = DataLoader(test_dataset, batch_size=32, shuffle=False)\n",
    "    \n",
    "    # Device\n",
    "    device = torch.device(\"mps\" if torch.backends.mps.is_available() else \"cpu\")\n",
    "    #device = torch.device(\"cpu\")\n",
    "    \n",
    "    # Create a model\n",
    "    model = models.vit_b_16(weights=None)   # b_32 for performance, b_16 might be better\n",
    "    num_ftrs = model.heads.head.in_features\n",
    "    model.heads.head = torch.nn.Linear(num_ftrs, 2) # Two output neurons\n",
    "    model = model.to(device)\n",
    "\n",
    "    # Train the model\n",
    "    criterion = nn.CrossEntropyLoss()\n",
    "    optimizer = optim.Adam(model.parameters(), lr=0.001)\n",
    "    num_epochs = 10\n",
    "    \n",
    "    model.train()\n",
    "\n",
    "    for epoch in range(num_epochs):\n",
    "        model.train()\n",
    "        running_loss = 0.0\n",
    "        for images, labels, _ in train_loader:\n",
    "            images, labels = images.to(device), labels.to(device)\n",
    "                        \n",
    "            optimizer.zero_grad()\n",
    "            outputs = model(images)\n",
    "            loss = criterion(outputs, labels.long().contiguous())\n",
    "            loss.backward()\n",
    "            optimizer.step()\n",
    "\n",
    "            running_loss += loss.item()\n",
    "\n",
    "        print(f\"Epoch {epoch + 1}/{num_epochs}, Loss: {running_loss / len(train_loader)}\")\n",
    "        \n",
    "    # Evaluate the model\n",
    "    correct = 0\n",
    "    total = 0\n",
    "    incorrect_files = []\n",
    "    \n",
    "    accuracy = 0\n",
    "\n",
    "    model.eval()\n",
    "\n",
    "    with torch.no_grad():\n",
    "        for images, labels, file_paths in test_loader:\n",
    "            images, labels = images.to(device).contiguous(), labels.to(device).contiguous()\n",
    "            outputs = model(images)\n",
    "            _, predicted = torch.max(outputs, 1)\n",
    "\n",
    "            total += labels.size(0)\n",
    "            correct += (predicted == labels).sum().item()\n",
    "\n",
    "            # Collect file names of incorrectly predicted images\n",
    "            with open(\"incorrect_predictions_visiontransformer.txt\", \"a\") as f:\n",
    "                for i in range(len(predicted)):\n",
    "                    if predicted[i].item() != labels[i].item():\n",
    "                        f.write(file_paths[i] + \"\\t\" + str(predicted[i].item()) + \"\\t\" + str(labels[i].item()) + \"\\n\")\n",
    "\n",
    "    accuracy = 100 * correct / total\n",
    "    print(f\"Test Accuracy: {accuracy:.2f}%\")\n",
    "    print(\"-\" * 50)"
   ],
   "id": "a24c55bfc29d0b45",
   "outputs": [
    {
     "name": "stdout",
     "output_type": "stream",
     "text": [
      "Fold 0\n",
      "Epoch 1/10, Loss: 0.44554419768974185\n",
      "Epoch 2/10, Loss: 0.38111991553987357\n",
      "Epoch 3/10, Loss: 0.3684517750699146\n",
      "Epoch 4/10, Loss: 0.3549736886486119\n",
      "Epoch 5/10, Loss: 0.34419909388046055\n",
      "Epoch 6/10, Loss: 0.33476675270746153\n",
      "Epoch 7/10, Loss: 0.32601894898449674\n",
      "Epoch 8/10, Loss: 0.3207231580882388\n",
      "Epoch 9/10, Loss: 0.3200722198531616\n",
      "Epoch 10/10, Loss: 0.3182406922181447\n",
      "Test Accuracy: 88.89%\n",
      "--------------------------------------------------\n",
      "Fold 1\n",
      "Epoch 1/10, Loss: 0.4591872863010412\n",
      "Epoch 2/10, Loss: 0.36449609859390003\n",
      "Epoch 3/10, Loss: 0.3622021743406852\n",
      "Epoch 4/10, Loss: 0.356864519983384\n",
      "Epoch 5/10, Loss: 0.343327284991449\n",
      "Epoch 6/10, Loss: 0.34490390057109444\n",
      "Epoch 7/10, Loss: 0.3629056088005503\n",
      "Epoch 8/10, Loss: 0.3529267190206869\n",
      "Epoch 9/10, Loss: 0.3435555863395041\n",
      "Epoch 10/10, Loss: 0.3454247939162979\n",
      "Test Accuracy: 88.52%\n",
      "--------------------------------------------------\n",
      "Fold 2\n",
      "Epoch 1/10, Loss: 0.4405653933976211\n",
      "Epoch 2/10, Loss: 0.3731591141161819\n",
      "Epoch 3/10, Loss: 0.3600787080495673\n",
      "Epoch 4/10, Loss: 0.3484462785771957\n",
      "Epoch 5/10, Loss: 0.337403100257849\n",
      "Epoch 6/10, Loss: 0.33427529420027985\n",
      "Epoch 7/10, Loss: 0.32558649779279153\n",
      "Epoch 8/10, Loss: 0.31564870622812535\n",
      "Epoch 9/10, Loss: 0.30542084618526344\n",
      "Epoch 10/10, Loss: 0.3041809385678932\n",
      "Test Accuracy: 88.00%\n",
      "--------------------------------------------------\n",
      "Fold 3\n",
      "Epoch 1/10, Loss: 0.4491877511107162\n",
      "Epoch 2/10, Loss: 0.37057914387197327\n",
      "Epoch 3/10, Loss: 0.3638276166154766\n",
      "Epoch 4/10, Loss: 0.3497756874992275\n",
      "Epoch 5/10, Loss: 0.3470556279461758\n",
      "Epoch 6/10, Loss: 0.3416201849741971\n",
      "Epoch 7/10, Loss: 0.3359414402249397\n",
      "Epoch 8/10, Loss: 0.33591150161901523\n",
      "Epoch 9/10, Loss: 0.32810487757966506\n",
      "Epoch 10/10, Loss: 0.3259448285451999\n",
      "Test Accuracy: 87.84%\n",
      "--------------------------------------------------\n",
      "Fold 4\n",
      "Epoch 1/10, Loss: 0.4220551510031025\n",
      "Epoch 2/10, Loss: 0.3792816097208974\n",
      "Epoch 3/10, Loss: 0.37377984746925386\n",
      "Epoch 4/10, Loss: 0.37248082022529605\n",
      "Epoch 5/10, Loss: 0.3668232239490631\n",
      "Epoch 6/10, Loss: 0.3638730940281176\n",
      "Epoch 7/10, Loss: 0.35523731057879093\n",
      "Epoch 8/10, Loss: 0.3501621224716598\n",
      "Epoch 9/10, Loss: 0.3429968286415233\n",
      "Epoch 10/10, Loss: 0.3387358386672157\n",
      "Test Accuracy: 88.24%\n",
      "--------------------------------------------------\n"
     ]
    }
   ],
   "execution_count": 6
  }
 ],
 "metadata": {
  "kernelspec": {
   "display_name": "Python 3",
   "language": "python",
   "name": "python3"
  },
  "language_info": {
   "codemirror_mode": {
    "name": "ipython",
    "version": 2
   },
   "file_extension": ".py",
   "mimetype": "text/x-python",
   "name": "python",
   "nbconvert_exporter": "python",
   "pygments_lexer": "ipython2",
   "version": "2.7.6"
  }
 },
 "nbformat": 4,
 "nbformat_minor": 5
}
