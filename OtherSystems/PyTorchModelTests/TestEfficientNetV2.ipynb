{
 "cells": [
  {
   "cell_type": "code",
   "id": "initial_id",
   "metadata": {
    "collapsed": true,
    "ExecuteTime": {
     "end_time": "2025-03-14T17:39:05.480205Z",
     "start_time": "2025-03-14T17:39:05.435023Z"
    }
   },
   "source": [
    "import torch\n",
    "from torch import nn, optim\n",
    "from torch.utils.data import DataLoader\n",
    "from torchvision import transforms, models\n",
    "from torchvision.io import decode_image\n",
    "from torchvision.models import EfficientNet_V2_S_Weights, EfficientNet_V2_M_Weights, EfficientNet_V2_L_Weights\n",
    "from sklearn.model_selection import KFold\n",
    "import numpy as np\n",
    "import os\n",
    "import cv2\n",
    "from PIL import Image"
   ],
   "outputs": [],
   "execution_count": 7
  },
  {
   "metadata": {
    "ExecuteTime": {
     "end_time": "2025-03-14T17:39:05.655499Z",
     "start_time": "2025-03-14T17:39:05.495634Z"
    }
   },
   "cell_type": "code",
   "source": [
    "# Prepare the data - create a KFold split\n",
    "random_seed = 42\n",
    "np.random.seed(random_seed)\n",
    "torch.manual_seed(random_seed)\n",
    "\n",
    "# \"CelebA\" dataset\n",
    "authentic_path = \"dane/CelebA/authentic\"\n",
    "spoof_path = \"dane/CelebA/spoof\"\n",
    "\n",
    "# Load images\n",
    "authentic_images = [os.path.join(authentic_path, img) for img in os.listdir(authentic_path)]\n",
    "spoof_images = [os.path.join(spoof_path, img) for img in os.listdir(spoof_path)]\n",
    "\n",
    "# Create X and y from all images\n",
    "X = authentic_images + spoof_images\n",
    "y = np.concatenate((np.zeros(len(authentic_images)), np.ones(len(spoof_images)))).astype(np.int64)\n",
    "\n",
    "# KFold\n",
    "kf = KFold(n_splits=5, random_state=random_seed, shuffle=True)"
   ],
   "id": "44e5a253e3e6ac9f",
   "outputs": [],
   "execution_count": 8
  },
  {
   "metadata": {
    "ExecuteTime": {
     "end_time": "2025-03-14T17:39:05.755159Z",
     "start_time": "2025-03-14T17:39:05.750378Z"
    }
   },
   "cell_type": "code",
   "source": [
    "# Custom dataset to load images and labels\n",
    "class OurDataset(torch.utils.data.Dataset):\n",
    "    def __init__(self, image_paths, labels, transform=None):\n",
    "        self.image_paths = image_paths\n",
    "        self.labels = labels\n",
    "        self.transform = transform\n",
    "\n",
    "    def __len__(self):\n",
    "        return len(self.image_paths)\n",
    "\n",
    "    def __getitem__(self, idx):\n",
    "        image_path = self.image_paths[idx]\n",
    "        image = Image.open(image_path).convert(\"RGB\")\n",
    "        label = self.labels[idx]\n",
    "\n",
    "        if self.transform:\n",
    "            image = self.transform(image)\n",
    "\n",
    "        return image, label, image_path  # Return image, label, and file path"
   ],
   "id": "58e969d6462aab",
   "outputs": [],
   "execution_count": 9
  },
  {
   "cell_type": "code",
   "source": [
    "# Create a text file to store incorrect predictions\n",
    "with open(\"incorrect_predictions_efficientnetv2.txt\", \"w\") as f:\n",
    "    f.write(\"name\\tpredicted\\tactual\\n\")\n",
    "    f.write(\"(0 - authentic, 1 - spoof)\\n\")"
   ],
   "metadata": {
    "collapsed": false,
    "ExecuteTime": {
     "end_time": "2025-03-14T17:39:05.760146Z",
     "start_time": "2025-03-14T17:39:05.757997Z"
    }
   },
   "id": "249334494936d44f",
   "outputs": [],
   "execution_count": 10
  },
  {
   "metadata": {
    "ExecuteTime": {
     "end_time": "2025-03-14T17:39:05.782427Z",
     "start_time": "2025-03-14T17:39:05.777845Z"
    }
   },
   "cell_type": "code",
   "source": [
    "# Create a transform to resize images\n",
    "transform = transforms.Compose([\n",
    "    transforms.Resize((64, 64)),\n",
    "    transforms.ToTensor(),\n",
    "])"
   ],
   "id": "5b20da1bf11aa0de",
   "outputs": [],
   "execution_count": 11
  },
  {
   "metadata": {
    "ExecuteTime": {
     "end_time": "2025-03-17T13:14:51.364089Z",
     "start_time": "2025-03-14T17:39:05.803583Z"
    }
   },
   "cell_type": "code",
   "source": [
    "# Create, test and evaluate the model for each fold\n",
    "for fold, (train_idx, test_idx) in enumerate(kf.split(X)):\n",
    "    print(f\"Fold {fold}\")\n",
    "    X_train = [X[i] for i in train_idx]\n",
    "    y_train = y[train_idx]\n",
    "    X_test = [X[i] for i in test_idx]\n",
    "    y_test = y[test_idx]\n",
    "    \n",
    "    # Create custom datasets\n",
    "    train_dataset = OurDataset(X_train, y_train, transform=transform)\n",
    "    test_dataset = OurDataset(X_test, y_test, transform=transform)\n",
    "    \n",
    "    # Create dataloaders\n",
    "    train_loader = DataLoader(train_dataset, batch_size=32, shuffle=True)\n",
    "    test_loader = DataLoader(test_dataset, batch_size=32, shuffle=False)\n",
    "    \n",
    "    # Device\n",
    "    device = torch.device(\"cuda\" if torch.cuda.is_available() else \"cpu\")\n",
    "    \n",
    "    # Create a model\n",
    "    model = models.efficientnet_v2_s(weights=None)\n",
    "    num_ftrs = model.classifier[1].in_features\n",
    "    model.classifier[1] = nn.Linear(num_ftrs, 2)  # Two output neurons\n",
    "    model = model.to(device)\n",
    "\n",
    "    # Train the model\n",
    "    criterion = nn.CrossEntropyLoss()\n",
    "    optimizer = optim.Adam(model.parameters(), lr=0.001)\n",
    "    num_epochs = 10\n",
    "    \n",
    "    model.train()\n",
    "\n",
    "    for epoch in range(num_epochs):\n",
    "        model.train()\n",
    "        running_loss = 0.0\n",
    "        for images, labels, _ in train_loader:\n",
    "            images, labels = images.to(device), labels.to(device)\n",
    "\n",
    "            optimizer.zero_grad()\n",
    "            outputs = model(images)\n",
    "            loss = criterion(outputs, labels.long())\n",
    "            loss.backward()\n",
    "            optimizer.step()\n",
    "\n",
    "            running_loss += loss.item()\n",
    "\n",
    "        print(f\"Epoch {epoch + 1}/{num_epochs}, Loss: {running_loss / len(train_loader)}\")\n",
    "        \n",
    "    # Evaluate the model\n",
    "    correct = 0\n",
    "    total = 0\n",
    "    incorrect_files = []\n",
    "    \n",
    "    accuracy = 0\n",
    "\n",
    "    model.eval()\n",
    "\n",
    "    with torch.no_grad():\n",
    "        for images, labels, file_paths in test_loader:\n",
    "            images, labels = images.to(device), labels.to(device)\n",
    "            outputs = model(images)\n",
    "            _, predicted = torch.max(outputs, 1)\n",
    "\n",
    "            total += labels.size(0)\n",
    "            correct += (predicted == labels).sum().item()\n",
    "\n",
    "            # Collect file names of incorrectly predicted images\n",
    "            with open(\"incorrect_predictions_efficientnetv2.txt\", \"a\") as f:\n",
    "                for i in range(len(predicted)):\n",
    "                    if predicted[i].item() != labels[i].item():\n",
    "                        f.write(file_paths[i] + \"\\t\" + str(predicted[i].item()) + \"\\t\" + str(labels[i].item()) + \"\\n\")\n",
    "\n",
    "    accuracy = 100 * correct / total\n",
    "    print(f\"Test Accuracy: {accuracy:.2f}%\")\n",
    "    print(\"-\" * 50)"
   ],
   "id": "a24c55bfc29d0b45",
   "outputs": [
    {
     "name": "stdout",
     "output_type": "stream",
     "text": [
      "Fold 0\n",
      "Epoch 1/10, Loss: 0.523951993270598\n",
      "Epoch 2/10, Loss: 0.36156173479102516\n",
      "Epoch 3/10, Loss: 0.2975520486951494\n",
      "Epoch 4/10, Loss: 0.27547838689317117\n",
      "Epoch 5/10, Loss: 0.25531522782464583\n",
      "Epoch 6/10, Loss: 0.2293766764229877\n",
      "Epoch 7/10, Loss: 0.21045906511837523\n",
      "Epoch 8/10, Loss: 0.19409450631672628\n",
      "Epoch 9/10, Loss: 0.17815520431349244\n",
      "Epoch 10/10, Loss: 0.1618796728157553\n",
      "Test Accuracy: 92.67%\n",
      "--------------------------------------------------\n",
      "Fold 1\n",
      "Epoch 1/10, Loss: 0.46287871526628477\n",
      "Epoch 2/10, Loss: 0.34847087112208586\n",
      "Epoch 3/10, Loss: 0.34310700103924635\n",
      "Epoch 4/10, Loss: 0.35598495064151553\n",
      "Epoch 5/10, Loss: 0.28064387844329897\n",
      "Epoch 6/10, Loss: 0.26800245710324166\n",
      "Epoch 7/10, Loss: 0.235492665720926\n",
      "Epoch 8/10, Loss: 0.2204463884453943\n",
      "Epoch 9/10, Loss: 0.2059558063125693\n",
      "Epoch 10/10, Loss: 0.18921535723621552\n",
      "Test Accuracy: 82.69%\n",
      "--------------------------------------------------\n",
      "Fold 2\n",
      "Epoch 1/10, Loss: 0.44535752379398413\n",
      "Epoch 2/10, Loss: 0.34721601609805636\n",
      "Epoch 3/10, Loss: 0.29524092325872936\n",
      "Epoch 4/10, Loss: 0.2556032191451955\n",
      "Epoch 5/10, Loss: 0.2621842525266692\n",
      "Epoch 6/10, Loss: 0.24806512051634813\n",
      "Epoch 7/10, Loss: 0.209937638314231\n",
      "Epoch 8/10, Loss: 0.19529590161720636\n",
      "Epoch 9/10, Loss: 0.19921799663912693\n",
      "Epoch 10/10, Loss: 0.1716451476872019\n",
      "Test Accuracy: 85.57%\n",
      "--------------------------------------------------\n",
      "Fold 3\n",
      "Epoch 1/10, Loss: 0.46013629260881317\n",
      "Epoch 2/10, Loss: 0.3162869514842587\n",
      "Epoch 3/10, Loss: 0.26966824583980403\n",
      "Epoch 4/10, Loss: 0.24030289804785668\n",
      "Epoch 5/10, Loss: 0.28520892050433616\n"
     ]
    },
    {
     "ename": "KeyboardInterrupt",
     "evalue": "",
     "output_type": "error",
     "traceback": [
      "\u001B[31m---------------------------------------------------------------------------\u001B[39m",
      "\u001B[31mKeyboardInterrupt\u001B[39m                         Traceback (most recent call last)",
      "\u001B[36mCell\u001B[39m\u001B[36m \u001B[39m\u001B[32mIn[12]\u001B[39m\u001B[32m, line 42\u001B[39m\n\u001B[32m     40\u001B[39m outputs = model(images)\n\u001B[32m     41\u001B[39m loss = criterion(outputs, labels.long())\n\u001B[32m---> \u001B[39m\u001B[32m42\u001B[39m \u001B[43mloss\u001B[49m\u001B[43m.\u001B[49m\u001B[43mbackward\u001B[49m\u001B[43m(\u001B[49m\u001B[43m)\u001B[49m\n\u001B[32m     43\u001B[39m optimizer.step()\n\u001B[32m     45\u001B[39m running_loss += loss.item()\n",
      "\u001B[36mFile \u001B[39m\u001B[32m~/Desktop/Studia/Doktorat/Projekt/FaceAuthenticityDetection/TestyInnychSystemów/PyTorchModelsTests/venv/lib/python3.12/site-packages/torch/_tensor.py:648\u001B[39m, in \u001B[36mTensor.backward\u001B[39m\u001B[34m(self, gradient, retain_graph, create_graph, inputs)\u001B[39m\n\u001B[32m    638\u001B[39m \u001B[38;5;28;01mif\u001B[39;00m has_torch_function_unary(\u001B[38;5;28mself\u001B[39m):\n\u001B[32m    639\u001B[39m     \u001B[38;5;28;01mreturn\u001B[39;00m handle_torch_function(\n\u001B[32m    640\u001B[39m         Tensor.backward,\n\u001B[32m    641\u001B[39m         (\u001B[38;5;28mself\u001B[39m,),\n\u001B[32m   (...)\u001B[39m\u001B[32m    646\u001B[39m         inputs=inputs,\n\u001B[32m    647\u001B[39m     )\n\u001B[32m--> \u001B[39m\u001B[32m648\u001B[39m \u001B[43mtorch\u001B[49m\u001B[43m.\u001B[49m\u001B[43mautograd\u001B[49m\u001B[43m.\u001B[49m\u001B[43mbackward\u001B[49m\u001B[43m(\u001B[49m\n\u001B[32m    649\u001B[39m \u001B[43m    \u001B[49m\u001B[38;5;28;43mself\u001B[39;49m\u001B[43m,\u001B[49m\u001B[43m \u001B[49m\u001B[43mgradient\u001B[49m\u001B[43m,\u001B[49m\u001B[43m \u001B[49m\u001B[43mretain_graph\u001B[49m\u001B[43m,\u001B[49m\u001B[43m \u001B[49m\u001B[43mcreate_graph\u001B[49m\u001B[43m,\u001B[49m\u001B[43m \u001B[49m\u001B[43minputs\u001B[49m\u001B[43m=\u001B[49m\u001B[43minputs\u001B[49m\n\u001B[32m    650\u001B[39m \u001B[43m\u001B[49m\u001B[43m)\u001B[49m\n",
      "\u001B[36mFile \u001B[39m\u001B[32m~/Desktop/Studia/Doktorat/Projekt/FaceAuthenticityDetection/TestyInnychSystemów/PyTorchModelsTests/venv/lib/python3.12/site-packages/torch/autograd/__init__.py:353\u001B[39m, in \u001B[36mbackward\u001B[39m\u001B[34m(tensors, grad_tensors, retain_graph, create_graph, grad_variables, inputs)\u001B[39m\n\u001B[32m    348\u001B[39m     retain_graph = create_graph\n\u001B[32m    350\u001B[39m \u001B[38;5;66;03m# The reason we repeat the same comment below is that\u001B[39;00m\n\u001B[32m    351\u001B[39m \u001B[38;5;66;03m# some Python versions print out the first line of a multi-line function\u001B[39;00m\n\u001B[32m    352\u001B[39m \u001B[38;5;66;03m# calls in the traceback and some print out the last line\u001B[39;00m\n\u001B[32m--> \u001B[39m\u001B[32m353\u001B[39m \u001B[43m_engine_run_backward\u001B[49m\u001B[43m(\u001B[49m\n\u001B[32m    354\u001B[39m \u001B[43m    \u001B[49m\u001B[43mtensors\u001B[49m\u001B[43m,\u001B[49m\n\u001B[32m    355\u001B[39m \u001B[43m    \u001B[49m\u001B[43mgrad_tensors_\u001B[49m\u001B[43m,\u001B[49m\n\u001B[32m    356\u001B[39m \u001B[43m    \u001B[49m\u001B[43mretain_graph\u001B[49m\u001B[43m,\u001B[49m\n\u001B[32m    357\u001B[39m \u001B[43m    \u001B[49m\u001B[43mcreate_graph\u001B[49m\u001B[43m,\u001B[49m\n\u001B[32m    358\u001B[39m \u001B[43m    \u001B[49m\u001B[43minputs\u001B[49m\u001B[43m,\u001B[49m\n\u001B[32m    359\u001B[39m \u001B[43m    \u001B[49m\u001B[43mallow_unreachable\u001B[49m\u001B[43m=\u001B[49m\u001B[38;5;28;43;01mTrue\u001B[39;49;00m\u001B[43m,\u001B[49m\n\u001B[32m    360\u001B[39m \u001B[43m    \u001B[49m\u001B[43maccumulate_grad\u001B[49m\u001B[43m=\u001B[49m\u001B[38;5;28;43;01mTrue\u001B[39;49;00m\u001B[43m,\u001B[49m\n\u001B[32m    361\u001B[39m \u001B[43m\u001B[49m\u001B[43m)\u001B[49m\n",
      "\u001B[36mFile \u001B[39m\u001B[32m~/Desktop/Studia/Doktorat/Projekt/FaceAuthenticityDetection/TestyInnychSystemów/PyTorchModelsTests/venv/lib/python3.12/site-packages/torch/autograd/graph.py:824\u001B[39m, in \u001B[36m_engine_run_backward\u001B[39m\u001B[34m(t_outputs, *args, **kwargs)\u001B[39m\n\u001B[32m    822\u001B[39m     unregister_hooks = _register_logging_hooks_on_whole_graph(t_outputs)\n\u001B[32m    823\u001B[39m \u001B[38;5;28;01mtry\u001B[39;00m:\n\u001B[32m--> \u001B[39m\u001B[32m824\u001B[39m     \u001B[38;5;28;01mreturn\u001B[39;00m \u001B[43mVariable\u001B[49m\u001B[43m.\u001B[49m\u001B[43m_execution_engine\u001B[49m\u001B[43m.\u001B[49m\u001B[43mrun_backward\u001B[49m\u001B[43m(\u001B[49m\u001B[43m  \u001B[49m\u001B[38;5;66;43;03m# Calls into the C++ engine to run the backward pass\u001B[39;49;00m\n\u001B[32m    825\u001B[39m \u001B[43m        \u001B[49m\u001B[43mt_outputs\u001B[49m\u001B[43m,\u001B[49m\u001B[43m \u001B[49m\u001B[43m*\u001B[49m\u001B[43margs\u001B[49m\u001B[43m,\u001B[49m\u001B[43m \u001B[49m\u001B[43m*\u001B[49m\u001B[43m*\u001B[49m\u001B[43mkwargs\u001B[49m\n\u001B[32m    826\u001B[39m \u001B[43m    \u001B[49m\u001B[43m)\u001B[49m  \u001B[38;5;66;03m# Calls into the C++ engine to run the backward pass\u001B[39;00m\n\u001B[32m    827\u001B[39m \u001B[38;5;28;01mfinally\u001B[39;00m:\n\u001B[32m    828\u001B[39m     \u001B[38;5;28;01mif\u001B[39;00m attach_logging_hooks:\n",
      "\u001B[31mKeyboardInterrupt\u001B[39m: "
     ]
    }
   ],
   "execution_count": 12
  }
 ],
 "metadata": {
  "kernelspec": {
   "display_name": "Python 3",
   "language": "python",
   "name": "python3"
  },
  "language_info": {
   "codemirror_mode": {
    "name": "ipython",
    "version": 2
   },
   "file_extension": ".py",
   "mimetype": "text/x-python",
   "name": "python",
   "nbconvert_exporter": "python",
   "pygments_lexer": "ipython2",
   "version": "2.7.6"
  }
 },
 "nbformat": 4,
 "nbformat_minor": 5
}
