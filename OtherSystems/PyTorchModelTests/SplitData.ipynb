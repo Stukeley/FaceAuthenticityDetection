{
 "cells": [
  {
   "cell_type": "code",
   "id": "initial_id",
   "metadata": {
    "collapsed": true,
    "ExecuteTime": {
     "end_time": "2025-02-13T16:56:27.637002Z",
     "start_time": "2025-02-13T16:56:27.627407Z"
    }
   },
   "source": [
    "import os\n",
    "import cv2\n",
    "import numpy as np\n",
    "from sklearn.model_selection import KFold"
   ],
   "outputs": [],
   "execution_count": 4
  },
  {
   "metadata": {
    "ExecuteTime": {
     "end_time": "2025-02-13T16:56:36.492677Z",
     "start_time": "2025-02-13T16:56:27.650549Z"
    }
   },
   "cell_type": "code",
   "source": [
    "random_seed = 42\n",
    "\n",
    "# Zbiór \"mały\"\n",
    "auth_data_path = \"data/everything-4/authentic\"\n",
    "spoof_data_path = \"data/everything-4/spoof\"\n",
    "\n",
    "# Zbiór \"duży\"\n",
    "#auth_data_path = \"data/everything-1/authentic\"\n",
    "#spoof_data_path = \"data/everything-1/spoof\"\n",
    "\n",
    "# Zbiór \"duży\" z internetu\n",
    "#auth_data_path = \"data/everything-2/authentic\"\n",
    "#spoof_data_path = \"data/everything-2/spoof\"\n",
    "\n",
    "# Load authentic images\n",
    "authentic_images = []\n",
    "authentic_image_names = []\n",
    "\n",
    "files = [f for f in os.listdir(auth_data_path) if f.endswith(\".jpg\") or f.endswith(\"jpeg\") or f.endswith(\".png\") or f.endswith(\".webp\")]\n",
    "\n",
    "for file in files:\n",
    "    image = cv2.imread(os.path.join(auth_data_path, file))\n",
    "    authentic_images.append(image)\n",
    "    authentic_image_names.append(file)\n",
    "    \n",
    "# Load spoof images\n",
    "spooof_images = []\n",
    "spoof_image_names = []\n",
    "\n",
    "files = [f for f in os.listdir(spoof_data_path) if f.endswith(\".jpg\") or f.endswith(\"jpeg\") or f.endswith(\".png\") or f.endswith(\".webp\")]\n",
    "\n",
    "for file in files:\n",
    "    image = cv2.imread(os.path.join(spoof_data_path, file))\n",
    "    spooof_images.append(image)\n",
    "    spoof_image_names.append(file)\n",
    "    \n",
    "# Create X and y from all images\n",
    "X = authentic_images + spooof_images\n",
    "names = authentic_image_names + spoof_image_names\n",
    "y = np.concatenate((np.zeros(len(authentic_images)), np.ones(len(spooof_images))))\n",
    "\n",
    "# KFold\n",
    "kf = KFold(n_splits=5, random_state=random_seed, shuffle=True)\n",
    "\n",
    "# Save splits to /folds/fold0 etc..\n",
    "for fold, (train_idx, test_idx) in enumerate(kf.split(X)):\n",
    "    X_train = [X[i] for i in train_idx]\n",
    "    y_train = y[train_idx]\n",
    "    X_test = [X[i] for i in test_idx]\n",
    "    y_test = y[test_idx]\n",
    "    \n",
    "    # Save to disk\n",
    "    for idx, img in enumerate(X_train):\n",
    "        name = names[train_idx[idx]].split('\\\\')[-1].split('.')[0]\n",
    "    if y_train[idx] == 0:\n",
    "        cv2.imwrite(f'data/folds/fold{fold}/train/authentic/{name}.png', img)\n",
    "    else:\n",
    "        cv2.imwrite(f'data/folds/fold{fold}/train/spoof/{name}.png', img)\n",
    "\n",
    "    for idx, img in enumerate(X_test):\n",
    "        name = names[test_idx[idx]].split('\\\\')[-1].split('.')[0]\n",
    "        if y_test[idx] == 0:\n",
    "            cv2.imwrite(f'data/folds/fold{fold}/test/authentic/{name}.png', img)\n",
    "        else:\n",
    "            cv2.imwrite(f'data/folds/fold{fold}/test/spoof/{name}.png', img)"
   ],
   "id": "ac3c7335efedb818",
   "outputs": [],
   "execution_count": 5
  },
  {
   "metadata": {
    "ExecuteTime": {
     "end_time": "2025-02-13T16:56:36.554289Z",
     "start_time": "2025-02-13T16:56:36.540740Z"
    }
   },
   "cell_type": "code",
   "source": "",
   "id": "78d4394ef6cae1ae",
   "outputs": [],
   "execution_count": null
  }
 ],
 "metadata": {
  "kernelspec": {
   "display_name": "Python 3",
   "language": "python",
   "name": "python3"
  },
  "language_info": {
   "codemirror_mode": {
    "name": "ipython",
    "version": 2
   },
   "file_extension": ".py",
   "mimetype": "text/x-python",
   "name": "python",
   "nbconvert_exporter": "python",
   "pygments_lexer": "ipython2",
   "version": "2.7.6"
  }
 },
 "nbformat": 4,
 "nbformat_minor": 5
}
