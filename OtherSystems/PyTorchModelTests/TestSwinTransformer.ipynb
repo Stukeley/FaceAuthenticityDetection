{
 "cells": [
  {
   "cell_type": "code",
   "id": "initial_id",
   "metadata": {
    "collapsed": true,
    "ExecuteTime": {
     "end_time": "2025-03-21T20:37:11.245522Z",
     "start_time": "2025-03-21T20:37:03.576031Z"
    }
   },
   "source": [
    "import torch\n",
    "from torch import nn, optim\n",
    "from torch.utils.data import DataLoader\n",
    "from torchvision import transforms, models\n",
    "from torchvision.io import decode_image\n",
    "from sklearn.model_selection import KFold\n",
    "import numpy as np\n",
    "import os\n",
    "import cv2\n",
    "from PIL import Image"
   ],
   "outputs": [],
   "execution_count": 1
  },
  {
   "metadata": {
    "ExecuteTime": {
     "end_time": "2025-03-21T20:37:11.273035Z",
     "start_time": "2025-03-21T20:37:11.251973Z"
    }
   },
   "cell_type": "code",
   "source": [
    "# Prepare the data - create a KFold split\n",
    "random_seed = 42\n",
    "np.random.seed(random_seed)\n",
    "torch.manual_seed(random_seed)\n",
    "\n",
    "# \"ours\" dataset\n",
    "authentic_path = \"dane/CelebA/authentic\"\n",
    "spoof_path = \"dane/CelebA/spoof\"\n",
    "\n",
    "# Load images\n",
    "authentic_images = [os.path.join(authentic_path, img) for img in os.listdir(authentic_path)]\n",
    "spoof_images = [os.path.join(spoof_path, img) for img in os.listdir(spoof_path)]\n",
    "\n",
    "# Create X and y from all images\n",
    "X = authentic_images + spoof_images\n",
    "y = np.concatenate((np.zeros(len(authentic_images)), np.ones(len(spoof_images)))).astype(np.int64)\n",
    "\n",
    "# KFold\n",
    "kf = KFold(n_splits=5, random_state=random_seed, shuffle=True)"
   ],
   "id": "44e5a253e3e6ac9f",
   "outputs": [],
   "execution_count": 2
  },
  {
   "metadata": {
    "ExecuteTime": {
     "end_time": "2025-03-21T20:37:11.332817Z",
     "start_time": "2025-03-21T20:37:11.330075Z"
    }
   },
   "cell_type": "code",
   "source": [
    "# Custom dataset to load images and labels\n",
    "class OurDataset(torch.utils.data.Dataset):\n",
    "    def __init__(self, image_paths, labels, transform=None):\n",
    "        self.image_paths = image_paths\n",
    "        self.labels = labels\n",
    "        self.transform = transform\n",
    "\n",
    "    def __len__(self):\n",
    "        return len(self.image_paths)\n",
    "\n",
    "    def __getitem__(self, idx):\n",
    "        image_path = self.image_paths[idx]\n",
    "        image = Image.open(image_path).convert(\"RGB\")\n",
    "        label = self.labels[idx]\n",
    "\n",
    "        if self.transform:\n",
    "            image = self.transform(image)\n",
    "\n",
    "        return image, label, image_path  # Return image, label, and file path"
   ],
   "id": "58e969d6462aab",
   "outputs": [],
   "execution_count": 3
  },
  {
   "cell_type": "code",
   "source": [
    "# Create a text file to store incorrect predictions\n",
    "with open(\"incorrect_predictions_swintransformer.txt\", \"w\") as f:\n",
    "    f.write(\"name\\tpredicted\\tactual\\n\")\n",
    "    f.write(\"(0 - authentic, 1 - spoof)\\n\")"
   ],
   "metadata": {
    "collapsed": false,
    "ExecuteTime": {
     "end_time": "2025-03-21T20:37:11.363949Z",
     "start_time": "2025-03-21T20:37:11.343566Z"
    }
   },
   "id": "249334494936d44f",
   "outputs": [],
   "execution_count": 4
  },
  {
   "metadata": {
    "ExecuteTime": {
     "end_time": "2025-03-21T20:37:11.370973Z",
     "start_time": "2025-03-21T20:37:11.368986Z"
    }
   },
   "cell_type": "code",
   "source": [
    "# Create a transform to resize images\n",
    "transform = transforms.Compose([\n",
    "    transforms.Resize((224, 224)),\n",
    "    transforms.ToTensor(),\n",
    "])"
   ],
   "id": "5b20da1bf11aa0de",
   "outputs": [],
   "execution_count": 5
  },
  {
   "metadata": {
    "pycharm": {
     "is_executing": true
    },
    "ExecuteTime": {
     "end_time": "2025-03-24T01:01:41.783851Z",
     "start_time": "2025-03-21T20:37:11.381901Z"
    }
   },
   "cell_type": "code",
   "source": [
    "# Create, test and evaluate the model for each fold\n",
    "for fold, (train_idx, test_idx) in enumerate(kf.split(X)):\n",
    "    print(f\"Fold {fold}\")\n",
    "    X_train = [X[i] for i in train_idx]\n",
    "    y_train = y[train_idx]\n",
    "    X_test = [X[i] for i in test_idx]\n",
    "    y_test = y[test_idx]\n",
    "    \n",
    "    # Create custom datasets\n",
    "    train_dataset = OurDataset(X_train, y_train, transform=transform)\n",
    "    test_dataset = OurDataset(X_test, y_test, transform=transform)\n",
    "    \n",
    "    # Create dataloaders\n",
    "    train_loader = DataLoader(train_dataset, batch_size=32, shuffle=True)\n",
    "    test_loader = DataLoader(test_dataset, batch_size=32, shuffle=False)\n",
    "    \n",
    "    # Device\n",
    "    device = torch.device(\"mps\" if torch.cuda.is_available() else \"cpu\")\n",
    "    \n",
    "    # Create a model\n",
    "    model = models.swin_v2_s(weights=None)   # s or v2_s\n",
    "    num_ftrs = model.head.in_features\n",
    "    model.head = torch.nn.Linear(num_ftrs, 2) # Two output neurons\n",
    "    model = model.to(device)\n",
    "\n",
    "    # Train the model\n",
    "    criterion = nn.CrossEntropyLoss()\n",
    "    optimizer = optim.Adam(model.parameters(), lr=0.001)\n",
    "    num_epochs = 10\n",
    "    \n",
    "    model.train()\n",
    "\n",
    "    for epoch in range(num_epochs):\n",
    "        model.train()\n",
    "        running_loss = 0.0\n",
    "        for images, labels, _ in train_loader:\n",
    "            images, labels = images.to(device), labels.to(device)\n",
    "\n",
    "            optimizer.zero_grad()\n",
    "            outputs = model(images)\n",
    "            loss = criterion(outputs, labels.long())\n",
    "            loss.backward()\n",
    "            optimizer.step()\n",
    "\n",
    "            running_loss += loss.item()\n",
    "\n",
    "        print(f\"Epoch {epoch + 1}/{num_epochs}, Loss: {running_loss / len(train_loader)}\")\n",
    "        \n",
    "    # Evaluate the model\n",
    "    correct = 0\n",
    "    total = 0\n",
    "    incorrect_files = []\n",
    "    \n",
    "    accuracy = 0\n",
    "\n",
    "    model.eval()\n",
    "\n",
    "    with torch.no_grad():\n",
    "        for images, labels, file_paths in test_loader:\n",
    "            images, labels = images.to(device), labels.to(device)\n",
    "            outputs = model(images)\n",
    "            _, predicted = torch.max(outputs, 1)\n",
    "\n",
    "            total += labels.size(0)\n",
    "            correct += (predicted == labels).sum().item()\n",
    "\n",
    "            # Collect file names of incorrectly predicted images\n",
    "            with open(\"incorrect_predictions_swintransformer.txt\", \"a\") as f:\n",
    "                for i in range(len(predicted)):\n",
    "                    if predicted[i].item() != labels[i].item():\n",
    "                        f.write(file_paths[i] + \"\\t\" + str(predicted[i].item()) + \"\\t\" + str(labels[i].item()) + \"\\n\")\n",
    "\n",
    "    accuracy = 100 * correct / total\n",
    "    print(f\"Test Accuracy: {accuracy:.2f}%\")\n",
    "    print(\"-\" * 50)"
   ],
   "id": "a24c55bfc29d0b45",
   "outputs": [
    {
     "name": "stdout",
     "output_type": "stream",
     "text": [
      "Fold 0\n",
      "Epoch 1/10, Loss: 0.7311827356521964\n",
      "Epoch 2/10, Loss: 0.6867667886991848\n",
      "Epoch 3/10, Loss: 0.6800270661117712\n",
      "Epoch 4/10, Loss: 0.6797727919740528\n",
      "Epoch 5/10, Loss: 0.6787192307063984\n",
      "Epoch 6/10, Loss: 0.6787282568329955\n",
      "Epoch 7/10, Loss: 0.6789998850128266\n",
      "Epoch 8/10, Loss: 0.678522928748635\n",
      "Epoch 9/10, Loss: 0.6787379395403936\n",
      "Epoch 10/10, Loss: 0.6791095795623144\n",
      "Test Accuracy: 58.60%\n",
      "--------------------------------------------------\n",
      "Fold 1\n",
      "Epoch 1/10, Loss: 0.7428869377802315\n",
      "Epoch 2/10, Loss: 0.6900480958783234\n",
      "Epoch 3/10, Loss: 0.6804863088465646\n",
      "Epoch 4/10, Loss: 0.6792258324821445\n",
      "Epoch 5/10, Loss: 0.6794366477060566\n",
      "Epoch 6/10, Loss: 0.6795762480854781\n",
      "Epoch 7/10, Loss: 0.6793073624424133\n",
      "Epoch 8/10, Loss: 0.6788225710082095\n",
      "Epoch 9/10, Loss: 0.6791249136577653\n",
      "Epoch 10/10, Loss: 0.6787023382129042\n",
      "Test Accuracy: 59.01%\n",
      "--------------------------------------------------\n",
      "Fold 2\n",
      "Epoch 1/10, Loss: 0.7415686093748546\n",
      "Epoch 2/10, Loss: 0.6836627777569009\n",
      "Epoch 3/10, Loss: 0.6793686267201574\n",
      "Epoch 4/10, Loss: 0.6797125412851727\n",
      "Epoch 5/10, Loss: 0.679453229160408\n",
      "Epoch 6/10, Loss: 0.6795597480322707\n",
      "Epoch 7/10, Loss: 0.6791568168114541\n",
      "Epoch 8/10, Loss: 0.6796734121271395\n",
      "Epoch 9/10, Loss: 0.6792836754326184\n",
      "Epoch 10/10, Loss: 0.6791233435867151\n",
      "Test Accuracy: 59.24%\n",
      "--------------------------------------------------\n",
      "Fold 3\n",
      "Epoch 1/10, Loss: 0.7124634962561226\n",
      "Epoch 2/10, Loss: 0.6846071349479503\n",
      "Epoch 3/10, Loss: 0.6806773828468455\n",
      "Epoch 4/10, Loss: 0.6790862185702994\n",
      "Epoch 5/10, Loss: 0.6793053185299323\n",
      "Epoch 6/10, Loss: 0.6782425795931957\n",
      "Epoch 7/10, Loss: 0.6787463266473502\n",
      "Epoch 8/10, Loss: 0.6784906910031879\n",
      "Epoch 9/10, Loss: 0.6781379137336692\n",
      "Epoch 10/10, Loss: 0.6783981387288773\n",
      "Test Accuracy: 58.50%\n",
      "--------------------------------------------------\n",
      "Fold 4\n",
      "Epoch 1/10, Loss: 0.7421026369831177\n",
      "Epoch 2/10, Loss: 0.6884046262017156\n",
      "Epoch 3/10, Loss: 0.6802837707141036\n",
      "Epoch 4/10, Loss: 0.6791394090528504\n",
      "Epoch 5/10, Loss: 0.6784190490092934\n",
      "Epoch 6/10, Loss: 0.6782302281059054\n",
      "Epoch 7/10, Loss: 0.6789459175005736\n",
      "Epoch 8/10, Loss: 0.6785199405622234\n",
      "Epoch 9/10, Loss: 0.6780615835297252\n",
      "Epoch 10/10, Loss: 0.6783548188581418\n",
      "Test Accuracy: 58.39%\n",
      "--------------------------------------------------\n"
     ]
    }
   ],
   "execution_count": 6
  }
 ],
 "metadata": {
  "kernelspec": {
   "display_name": "Python 3",
   "language": "python",
   "name": "python3"
  },
  "language_info": {
   "codemirror_mode": {
    "name": "ipython",
    "version": 2
   },
   "file_extension": ".py",
   "mimetype": "text/x-python",
   "name": "python",
   "nbconvert_exporter": "python",
   "pygments_lexer": "ipython2",
   "version": "2.7.6"
  }
 },
 "nbformat": 4,
 "nbformat_minor": 5
}
