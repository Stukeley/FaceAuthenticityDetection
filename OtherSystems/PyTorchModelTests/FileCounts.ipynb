{
 "cells": [
  {
   "cell_type": "code",
   "id": "initial_id",
   "metadata": {
    "collapsed": true,
    "ExecuteTime": {
     "end_time": "2025-04-14T17:08:52.922080Z",
     "start_time": "2025-04-14T17:08:52.919468Z"
    }
   },
   "source": "import os",
   "outputs": [],
   "execution_count": 1
  },
  {
   "metadata": {
    "ExecuteTime": {
     "end_time": "2025-04-14T17:08:52.941161Z",
     "start_time": "2025-04-14T17:08:52.927473Z"
    }
   },
   "cell_type": "code",
   "source": [
    "auth = \"dane/CelebA/authentic\"\n",
    "spoof = \"dane/CelebA/spoof\"\n",
    "\n",
    "auth_files = os.listdir(auth)\n",
    "spoof_files = os.listdir(spoof)\n",
    "\n",
    "auth_files = [f for f in auth_files if f.endswith(\".jpg\") or f.endswith(\".png\") or f.endswith(\".jpeg\") or f.endswith(\".webp\")]\n",
    "spoof_files = [f for f in spoof_files if f.endswith(\".jpg\") or f.endswith(\".png\") or f.endswith(\".jpeg\") or f.endswith(\".webp\")]\n",
    "\n",
    "print(\"CelebA\")\n",
    "print(f\"Authentic files: {len(auth_files)}\")\n",
    "print(f\"Spoof files: {len(spoof_files)}\")\n",
    "print(f\"Total: {len(auth_files) + len(spoof_files)}\")"
   ],
   "id": "84af24c3271b5132",
   "outputs": [
    {
     "name": "stdout",
     "output_type": "stream",
     "text": [
      "CelebA\n",
      "Authentic files: 13543\n",
      "Spoof files: 9509\n",
      "Total: 23052\n"
     ]
    }
   ],
   "execution_count": 2
  },
  {
   "metadata": {
    "ExecuteTime": {
     "end_time": "2025-04-14T17:08:53.016928Z",
     "start_time": "2025-04-14T17:08:53.004567Z"
    }
   },
   "cell_type": "code",
   "source": [
    "auth = \"dane/Large Crowdcollected/authentic\"\n",
    "spoof = \"dane/Large Crowdcollected/spoof\"\n",
    "\n",
    "auth_files = os.listdir(auth)\n",
    "spoof_files = os.listdir(spoof)\n",
    "\n",
    "auth_files = [f for f in auth_files if f.endswith(\".jpg\") or f.endswith(\".png\") or f.endswith(\".jpeg\") or f.endswith(\".webp\")]\n",
    "spoof_files = [f for f in spoof_files if f.endswith(\".jpg\") or f.endswith(\".png\") or f.endswith(\".jpeg\") or f.endswith(\".webp\")]\n",
    "\n",
    "print(\"Large Crowdcollected\")\n",
    "print(f\"Authentic files: {len(auth_files)}\")\n",
    "print(f\"Spoof files: {len(spoof_files)}\")\n",
    "print(f\"Total: {len(auth_files) + len(spoof_files)}\")"
   ],
   "id": "9613e91adcd8b4cc",
   "outputs": [
    {
     "name": "stdout",
     "output_type": "stream",
     "text": [
      "Large Crowdcollected\n",
      "Authentic files: 1942\n",
      "Spoof files: 14342\n",
      "Total: 16284\n"
     ]
    }
   ],
   "execution_count": 3
  }
 ],
 "metadata": {
  "kernelspec": {
   "display_name": "Python 3",
   "language": "python",
   "name": "python3"
  },
  "language_info": {
   "codemirror_mode": {
    "name": "ipython",
    "version": 2
   },
   "file_extension": ".py",
   "mimetype": "text/x-python",
   "name": "python",
   "nbconvert_exporter": "python",
   "pygments_lexer": "ipython2",
   "version": "2.7.6"
  }
 },
 "nbformat": 4,
 "nbformat_minor": 5
}
