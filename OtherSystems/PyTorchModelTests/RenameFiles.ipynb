{
 "cells": [
  {
   "cell_type": "code",
   "metadata": {
    "collapsed": true,
    "ExecuteTime": {
     "end_time": "2025-02-20T14:23:10.467065Z",
     "start_time": "2025-02-20T14:23:10.376418Z"
    }
   },
   "source": [
    "# Renames files in a specific directory to the following format:\n",
    "# T0000, T0001, ... - authentic\n",
    "# F0000, F0001 - spoof\n",
    "import os\n",
    "import cv2\n",
    "import cv2.data"
   ],
   "outputs": [],
   "execution_count": 1
  },
  {
   "cell_type": "code",
   "source": [
    "def detect_faces(image):\n",
    "    face_cascade = cv2.CascadeClassifier(cv2.data.haarcascades + 'haarcascade_frontalface_default.xml')\n",
    "    faces = face_cascade.detectMultiScale(image, 1.3, 5, minSize=(30, 30))\n",
    "    return faces"
   ],
   "metadata": {
    "collapsed": false,
    "ExecuteTime": {
     "end_time": "2025-02-20T14:23:10.475261Z",
     "start_time": "2025-02-20T14:23:10.471593Z"
    }
   },
   "outputs": [],
   "execution_count": 2
  },
  {
   "cell_type": "code",
   "source": [
    "auth_directory = \"data/everything-5/authentic\"\n",
    "new_auth_directory = \"data/everything-5-c/authentic\"\n",
    "spoof_directory = \"data/everything-5/spoof\"\n",
    "new_spoof_directory = \"data/everything-5-c/spoof\"\n",
    "\n",
    "files = os.listdir(auth_directory)\n",
    "files = [f for f in files if f.endswith(\".png\") or f.endswith(\".jpg\") or f.endswith(\".jpeg\") or f.endswith(\".webp\")]\n",
    "\n",
    "i = 0\n",
    "\n",
    "for file in files:\n",
    "    img = cv2.imread(os.path.join(auth_directory, file))\n",
    "    if img is None:\n",
    "        continue\n",
    "\n",
    "    faces = detect_faces(img)\n",
    "\n",
    "    if faces is None or len(faces) == 0:\n",
    "        continue\n",
    "\n",
    "    new_file = f\"T{i:04d}.png\"\n",
    "    cv2.imwrite(os.path.join(new_auth_directory, new_file), img)\n",
    "\n",
    "    i += 1\n",
    "\n",
    "files = os.listdir(spoof_directory)\n",
    "files = [f for f in files if f.endswith(\".png\") or f.endswith(\".jpg\") or f.endswith(\".jpeg\") or f.endswith(\".webp\")]\n",
    "\n",
    "i = 0\n",
    "\n",
    "for file in files:\n",
    "    img = cv2.imread(os.path.join(spoof_directory, file))\n",
    "    if img is None:\n",
    "        continue\n",
    "\n",
    "    faces = detect_faces(img)\n",
    "\n",
    "    if faces is None or len(faces) == 0:\n",
    "        continue\n",
    "\n",
    "    new_file = f\"F{i:04d}.png\"\n",
    "    cv2.imwrite(os.path.join(new_spoof_directory, new_file), img)\n",
    "\n",
    "    i += 1"
   ],
   "metadata": {
    "collapsed": false,
    "ExecuteTime": {
     "end_time": "2025-02-20T14:24:34.070453Z",
     "start_time": "2025-02-20T14:23:10.630069Z"
    }
   },
   "outputs": [],
   "execution_count": 3
  }
 ],
 "metadata": {
  "kernelspec": {
   "display_name": "Python 3",
   "language": "python",
   "name": "python3"
  },
  "language_info": {
   "codemirror_mode": {
    "name": "ipython",
    "version": 2
   },
   "file_extension": ".py",
   "mimetype": "text/x-python",
   "name": "python",
   "nbconvert_exporter": "python",
   "pygments_lexer": "ipython2",
   "version": "2.7.6"
  }
 },
 "nbformat": 4,
 "nbformat_minor": 0
}
