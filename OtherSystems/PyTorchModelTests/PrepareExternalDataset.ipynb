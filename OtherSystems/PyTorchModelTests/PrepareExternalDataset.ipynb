{
 "cells": [
  {
   "cell_type": "code",
   "execution_count": 3,
   "metadata": {
    "collapsed": true
   },
   "outputs": [],
   "source": [
    "# For \"CelebA\"\n",
    "# Select the first 10000 identities, then select a random authentic and spoof image from each identity\n",
    "import os\n",
    "import cv2\n",
    "import cv2.data\n",
    "import shutil\n",
    "import numpy as np\n",
    "\n",
    "np.random.seed(42)\n",
    "\n",
    "path = \"E:\\\\Zbiory danych\\\\CelebA_Spoof\\\\CelebA_Spoof\\\\Data\\\\train\" # 1, 2, 3, ...\n",
    "new_auth_path = \"E:\\\\Zbiory danych\\\\CelebA_Spoof\\\\CelebA_Spoof\\\\combined\\\\authentic\"\n",
    "new_spoof_path = \"E:\\\\Zbiory danych\\\\CelebA_Spoof\\\\CelebA_Spoof\\\\combined\\\\spoof\"\n",
    "\n",
    "num_auth = 0\n",
    "num_spoof = 0\n",
    "\n",
    "face_cascade = cv2.CascadeClassifier(cv2.data.haarcascades + 'haarcascade_frontalface_default.xml')"
   ]
  },
  {
   "cell_type": "code",
   "execution_count": 4,
   "outputs": [],
   "source": [
    "# Select the first 10000 directories in path\n",
    "dirs = os.listdir(path)\n",
    "dirs = dirs[:10000]\n",
    "\n",
    "# For each directory, select a random image from the subdir 'live' and 'spoof'\n",
    "# Only select the image if a face is detected on it\n",
    "for dir in dirs:\n",
    "    auth_dir = os.path.join(path, dir, 'live')\n",
    "    spoof_dir = os.path.join(path, dir, 'spoof')\n",
    "\n",
    "    if os.path.exists(auth_dir):\n",
    "        auth_files = os.listdir(auth_dir)\n",
    "        auth_files = [file for file in auth_files if file.endswith('.png') or file.endswith('.jpg') or file.endswith('.jpeg') or file.endswith('.webp')]\n",
    "        auth_file = np.random.choice(auth_files)\n",
    "\n",
    "        auth_img = cv2.imread(os.path.join(auth_dir, auth_file))\n",
    "        auth_gray = cv2.cvtColor(auth_img, cv2.COLOR_BGR2GRAY)\n",
    "        auth_faces = face_cascade.detectMultiScale(auth_gray, 1.3, 5, minSize=(30, 30))\n",
    "\n",
    "        if len(auth_faces) > 0:\n",
    "            num_auth += 1\n",
    "            shutil.copy(os.path.join(auth_dir, auth_file), os.path.join(new_auth_path, f\"T{num_auth:05d}.png\"))\n",
    "\n",
    "    if os.path.exists(spoof_dir):\n",
    "        spoof_files = os.listdir(spoof_dir)\n",
    "        spoof_files = [file for file in spoof_files if file.endswith('.png') or file.endswith('.jpg') or file.endswith('.jpeg') or file.endswith('.webp')]\n",
    "        spoof_file = np.random.choice(spoof_files)\n",
    "\n",
    "        spoof_img = cv2.imread(os.path.join(spoof_dir, spoof_file))\n",
    "        spoof_gray = cv2.cvtColor(spoof_img, cv2.COLOR_BGR2GRAY)\n",
    "        spoof_faces = face_cascade.detectMultiScale(spoof_gray, 1.3, 5, minSize=(30, 30))\n",
    "\n",
    "        if len(spoof_faces) > 0:\n",
    "            num_spoof += 1\n",
    "            shutil.copy(os.path.join(spoof_dir, spoof_file), os.path.join(new_spoof_path, f\"F{num_spoof:05d}.png\"))"
   ],
   "metadata": {
    "collapsed": false
   }
  },
  {
   "cell_type": "code",
   "execution_count": 5,
   "outputs": [
    {
     "name": "stdout",
     "output_type": "stream",
     "text": [
      "Number of authentic images: 6748\n",
      "Number of spoof images: 4723\n"
     ]
    }
   ],
   "source": [
    "print(\"Number of authentic images:\", num_auth)\n",
    "print(\"Number of spoof images:\", num_spoof)"
   ],
   "metadata": {
    "collapsed": false
   }
  }
 ],
 "metadata": {
  "kernelspec": {
   "display_name": "Python 3",
   "language": "python",
   "name": "python3"
  },
  "language_info": {
   "codemirror_mode": {
    "name": "ipython",
    "version": 2
   },
   "file_extension": ".py",
   "mimetype": "text/x-python",
   "name": "python",
   "nbconvert_exporter": "python",
   "pygments_lexer": "ipython2",
   "version": "2.7.6"
  }
 },
 "nbformat": 4,
 "nbformat_minor": 0
}
