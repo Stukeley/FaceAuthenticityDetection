{
 "cells": [
  {
   "cell_type": "code",
   "id": "initial_id",
   "metadata": {
    "collapsed": true,
    "ExecuteTime": {
     "end_time": "2025-03-08T15:27:51.771470Z",
     "start_time": "2025-03-08T15:27:51.768399Z"
    }
   },
   "source": [
    "import torch\n",
    "from torch import nn, optim\n",
    "from torch.utils.data import DataLoader\n",
    "from torchvision import transforms, models\n",
    "from torchvision.io import decode_image\n",
    "from sklearn.model_selection import KFold\n",
    "import numpy as np\n",
    "import os\n",
    "import cv2\n",
    "from PIL import Image"
   ],
   "outputs": [],
   "execution_count": 7
  },
  {
   "metadata": {
    "ExecuteTime": {
     "end_time": "2025-03-08T15:27:51.871535Z",
     "start_time": "2025-03-08T15:27:51.776311Z"
    }
   },
   "cell_type": "code",
   "source": [
    "# Prepare the data - create a KFold split\n",
    "random_seed = 42\n",
    "np.random.seed(random_seed)\n",
    "torch.manual_seed(random_seed)\n",
    "\n",
    "# \"CelebA\" dataset\n",
    "authentic_path = \"dane/CelebA/authentic\"\n",
    "spoof_path = \"dane/CelebA/spoof\"\n",
    "\n",
    "# Load images\n",
    "authentic_images = [os.path.join(authentic_path, img) for img in os.listdir(authentic_path)]\n",
    "spoof_images = [os.path.join(spoof_path, img) for img in os.listdir(spoof_path)]\n",
    "\n",
    "# Create X and y from all images\n",
    "X = authentic_images + spoof_images\n",
    "y = np.concatenate((np.zeros(len(authentic_images)), np.ones(len(spoof_images)))).astype(np.int64)\n",
    "\n",
    "# KFold\n",
    "kf = KFold(n_splits=5, random_state=random_seed, shuffle=True)"
   ],
   "id": "44e5a253e3e6ac9f",
   "outputs": [],
   "execution_count": 8
  },
  {
   "metadata": {
    "ExecuteTime": {
     "end_time": "2025-03-08T15:27:51.881973Z",
     "start_time": "2025-03-08T15:27:51.879906Z"
    }
   },
   "cell_type": "code",
   "source": [
    "# Custom dataset to load images and labels\n",
    "class OurDataset(torch.utils.data.Dataset):\n",
    "    def __init__(self, image_paths, labels, transform=None):\n",
    "        self.image_paths = image_paths\n",
    "        self.labels = labels\n",
    "        self.transform = transform\n",
    "\n",
    "    def __len__(self):\n",
    "        return len(self.image_paths)\n",
    "\n",
    "    def __getitem__(self, idx):\n",
    "        image_path = self.image_paths[idx]\n",
    "        image = Image.open(image_path).convert(\"RGB\")\n",
    "        label = self.labels[idx]\n",
    "\n",
    "        if self.transform:\n",
    "            image = self.transform(image)\n",
    "\n",
    "        return image, label, image_path  # Return image, label, and file path"
   ],
   "id": "58e969d6462aab",
   "outputs": [],
   "execution_count": 9
  },
  {
   "cell_type": "code",
   "source": [
    "# Create a text file to store incorrect predictions\n",
    "with open(\"incorrect_predictions_convnext.txt\", \"w\") as f:\n",
    "    f.write(\"name\\tpredicted\\tactual\\n\")\n",
    "    f.write(\"(0 - authentic, 1 - spoof)\\n\")"
   ],
   "metadata": {
    "collapsed": false,
    "ExecuteTime": {
     "end_time": "2025-03-08T15:27:51.892890Z",
     "start_time": "2025-03-08T15:27:51.890792Z"
    }
   },
   "id": "249334494936d44f",
   "outputs": [],
   "execution_count": 10
  },
  {
   "metadata": {
    "ExecuteTime": {
     "end_time": "2025-03-08T15:27:51.903855Z",
     "start_time": "2025-03-08T15:27:51.901926Z"
    }
   },
   "cell_type": "code",
   "source": [
    "# Create a transform to resize images\n",
    "transform = transforms.Compose([\n",
    "    transforms.Resize((64, 64)),\n",
    "    transforms.ToTensor(),\n",
    "])"
   ],
   "id": "5b20da1bf11aa0de",
   "outputs": [],
   "execution_count": 11
  },
  {
   "metadata": {
    "ExecuteTime": {
     "end_time": "2025-03-10T16:28:36.977306Z",
     "start_time": "2025-03-08T15:27:51.912712Z"
    }
   },
   "cell_type": "code",
   "source": [
    "# Create, test and evaluate the model for each fold\n",
    "for fold, (train_idx, test_idx) in enumerate(kf.split(X)):\n",
    "    print(f\"Fold {fold}\")\n",
    "    X_train = [X[i] for i in train_idx]\n",
    "    y_train = y[train_idx]\n",
    "    X_test = [X[i] for i in test_idx]\n",
    "    y_test = y[test_idx]\n",
    "    \n",
    "    # Create custom datasets\n",
    "    train_dataset = OurDataset(X_train, y_train, transform=transform)\n",
    "    test_dataset = OurDataset(X_test, y_test, transform=transform)\n",
    "    \n",
    "    # Create dataloaders\n",
    "    train_loader = DataLoader(train_dataset, batch_size=32, shuffle=True)\n",
    "    test_loader = DataLoader(test_dataset, batch_size=32, shuffle=False)\n",
    "    \n",
    "    # Device\n",
    "    device = torch.device(\"cuda\" if torch.cuda.is_available() else \"cpu\")\n",
    "    \n",
    "    # Create a model\n",
    "    model = models.convnext_small(weights=None)\n",
    "    num_ftrs = model.classifier[-1].in_features\n",
    "    model.classifier[-1] = nn.Linear(num_ftrs, 2)  # Two output neurons\n",
    "    model = model.to(device)\n",
    "\n",
    "    # Train the model\n",
    "    criterion = nn.CrossEntropyLoss()\n",
    "    optimizer = optim.Adam(model.parameters(), lr=0.001)\n",
    "    num_epochs = 10\n",
    "    \n",
    "    model.train()\n",
    "\n",
    "    for epoch in range(num_epochs):\n",
    "        model.train()\n",
    "        running_loss = 0.0\n",
    "        for images, labels, _ in train_loader:\n",
    "            images, labels = images.to(device), labels.to(device)\n",
    "\n",
    "            optimizer.zero_grad()\n",
    "            outputs = model(images)\n",
    "            loss = criterion(outputs, labels.long())\n",
    "            loss.backward()\n",
    "            optimizer.step()\n",
    "\n",
    "            running_loss += loss.item()\n",
    "\n",
    "        print(f\"Epoch {epoch + 1}/{num_epochs}, Loss: {running_loss / len(train_loader)}\")\n",
    "        \n",
    "    # Evaluate the model\n",
    "    correct = 0\n",
    "    total = 0\n",
    "    incorrect_files = []\n",
    "    \n",
    "    accuracy = 0\n",
    "\n",
    "    model.eval()\n",
    "\n",
    "    with torch.no_grad():\n",
    "        for images, labels, file_paths in test_loader:\n",
    "            images, labels = images.to(device), labels.to(device)\n",
    "            outputs = model(images)\n",
    "            _, predicted = torch.max(outputs, 1)\n",
    "\n",
    "            total += labels.size(0)\n",
    "            correct += (predicted == labels).sum().item()\n",
    "\n",
    "            # Collect file names of incorrectly predicted images\n",
    "            with open(\"incorrect_predictions_convnext.txt\", \"a\") as f:\n",
    "                for i in range(len(predicted)):\n",
    "                    if predicted[i].item() != labels[i].item():\n",
    "                        f.write(file_paths[i] + \"\\t\" + str(predicted[i].item()) + \"\\t\" + str(labels[i].item()) + \"\\n\")\n",
    "\n",
    "    accuracy = 100 * correct / total\n",
    "    print(f\"Test Accuracy: {accuracy:.2f}%\")\n",
    "    print(\"-\" * 50)"
   ],
   "id": "a24c55bfc29d0b45",
   "outputs": [
    {
     "name": "stdout",
     "output_type": "stream",
     "text": [
      "Fold 0\n",
      "Epoch 1/10, Loss: 0.7148364968275074\n",
      "Epoch 2/10, Loss: 0.6693683343082408\n",
      "Epoch 3/10, Loss: 0.48602789260795665\n",
      "Epoch 4/10, Loss: 0.3371417495959553\n",
      "Epoch 5/10, Loss: 0.3026034590663902\n",
      "Epoch 6/10, Loss: 0.2653352783692668\n",
      "Epoch 7/10, Loss: 0.24552736077877327\n",
      "Epoch 8/10, Loss: 0.22573882557994054\n",
      "Epoch 9/10, Loss: 0.20688605014770656\n",
      "Epoch 10/10, Loss: 0.18881066821747988\n",
      "Test Accuracy: 91.26%\n",
      "--------------------------------------------------\n",
      "Fold 1\n",
      "Epoch 1/10, Loss: 0.7213006023724323\n",
      "Epoch 2/10, Loss: 0.40454974109419917\n",
      "Epoch 3/10, Loss: 0.3459707128733035\n",
      "Epoch 4/10, Loss: 0.3253415241463036\n",
      "Epoch 5/10, Loss: 0.3047782786358374\n",
      "Epoch 6/10, Loss: 0.2839510084696411\n",
      "Epoch 7/10, Loss: 0.26315677896839285\n",
      "Epoch 8/10, Loss: 0.2387717620016074\n",
      "Epoch 9/10, Loss: 0.22920187874543813\n",
      "Epoch 10/10, Loss: 0.21034280041578118\n",
      "Test Accuracy: 90.28%\n",
      "--------------------------------------------------\n",
      "Fold 2\n",
      "Epoch 1/10, Loss: 0.570699611417239\n",
      "Epoch 2/10, Loss: 0.35994145062395355\n",
      "Epoch 3/10, Loss: 0.327580239371989\n",
      "Epoch 4/10, Loss: 0.31027632788391835\n",
      "Epoch 5/10, Loss: 0.2836862709147265\n",
      "Epoch 6/10, Loss: 0.26049306185551285\n",
      "Epoch 7/10, Loss: 0.23423894945422327\n",
      "Epoch 8/10, Loss: 0.21875745628797408\n",
      "Epoch 9/10, Loss: 0.20033636599120586\n",
      "Epoch 10/10, Loss: 0.18706326656030617\n",
      "Test Accuracy: 90.95%\n",
      "--------------------------------------------------\n",
      "Fold 3\n",
      "Epoch 1/10, Loss: 0.5638226688527979\n",
      "Epoch 2/10, Loss: 0.3638858424832131\n",
      "Epoch 3/10, Loss: 0.32827707103726356\n",
      "Epoch 4/10, Loss: 0.30707710476485656\n",
      "Epoch 5/10, Loss: 0.2792279326277858\n",
      "Epoch 6/10, Loss: 0.2585222700439665\n",
      "Epoch 7/10, Loss: 0.2316602472428949\n",
      "Epoch 8/10, Loss: 0.2135906715811177\n",
      "Epoch 9/10, Loss: 0.20431370363995252\n",
      "Epoch 10/10, Loss: 0.18153240314750985\n",
      "Test Accuracy: 92.39%\n",
      "--------------------------------------------------\n",
      "Fold 4\n",
      "Epoch 1/10, Loss: 0.5628978028454442\n",
      "Epoch 2/10, Loss: 0.3507307476817632\n",
      "Epoch 3/10, Loss: 0.30311224848496854\n",
      "Epoch 4/10, Loss: 0.27847387643605215\n",
      "Epoch 5/10, Loss: 0.2507721959472839\n",
      "Epoch 6/10, Loss: 0.2295822254551552\n",
      "Epoch 7/10, Loss: 0.20801056943433538\n",
      "Epoch 8/10, Loss: 0.19070204081856348\n",
      "Epoch 9/10, Loss: 0.16967406237184796\n",
      "Epoch 10/10, Loss: 0.1535756406802006\n",
      "Test Accuracy: 92.41%\n",
      "--------------------------------------------------\n"
     ]
    }
   ],
   "execution_count": 12
  }
 ],
 "metadata": {
  "kernelspec": {
   "display_name": "Python 3",
   "language": "python",
   "name": "python3"
  },
  "language_info": {
   "codemirror_mode": {
    "name": "ipython",
    "version": 2
   },
   "file_extension": ".py",
   "mimetype": "text/x-python",
   "name": "python",
   "nbconvert_exporter": "python",
   "pygments_lexer": "ipython2",
   "version": "2.7.6"
  }
 },
 "nbformat": 4,
 "nbformat_minor": 5
}
