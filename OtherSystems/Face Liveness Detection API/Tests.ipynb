{
 "cells": [
  {
   "cell_type": "code",
   "id": "initial_id",
   "metadata": {
    "collapsed": true,
    "ExecuteTime": {
     "end_time": "2024-11-29T17:07:19.596950Z",
     "start_time": "2024-11-29T17:07:19.594086Z"
    }
   },
   "source": [
    "# 1. Dane z \"wszystko\"\n",
    "# 2. Zamiana obrazów na Base64\n",
    "# 3. Wysyłanie requestów (1 na 10 sekund)\n",
    "# 4. Zapisywanie wyników\n",
    "import requests\n",
    "import base64\n",
    "import time\n",
    "import os"
   ],
   "outputs": [],
   "execution_count": 8
  },
  {
   "metadata": {
    "ExecuteTime": {
     "end_time": "2024-11-29T17:07:19.608313Z",
     "start_time": "2024-11-29T17:07:19.603371Z"
    }
   },
   "cell_type": "code",
   "source": [
    "# Wczytanie danych\n",
    "auth_path = \"../Dane/wszystko/authentic\"\n",
    "spoof_path = \"../Dane/wszystko/spoof\"\n",
    "\n",
    "auth_files = os.listdir(auth_path)\n",
    "spoof_files = os.listdir(spoof_path)\n",
    "\n",
    "auth_files = [os.path.join(auth_path, file) for file in auth_files]\n",
    "spoof_files = [os.path.join(spoof_path, file) for file in spoof_files]\n",
    "\n",
    "print(\"Ilość zdjęć autentycznych: \", len(auth_files))\n",
    "print(\"Ilość zdjęć podstawionych: \", len(spoof_files))"
   ],
   "id": "c8c281960e08e04f",
   "outputs": [
    {
     "name": "stdout",
     "output_type": "stream",
     "text": [
      "Ilość zdjęć autentycznych:  252\n",
      "Ilość zdjęć podstawionych:  235\n"
     ]
    }
   ],
   "execution_count": 9
  },
  {
   "metadata": {
    "ExecuteTime": {
     "end_time": "2024-11-29T18:12:44.684934Z",
     "start_time": "2024-11-29T17:07:19.617198Z"
    }
   },
   "cell_type": "code",
   "source": [
    "# POST https://face-liveness-detection3.p.rapidapi.com/api/liveness_base64 HTTP/1.1\n",
    "# Accept: application/json\n",
    "# Content-Type: application/json\n",
    "# x-rapidapi-ua: RapidAPI-Playground\n",
    "# x-rapidapi-key: 5719b3ffa5msh94945ab740d3217p197d75jsn2f970af3cecc\n",
    "# x-rapidapi-host: face-liveness-detection3.p.rapidapi.com\n",
    "# specificMethodHeaders: [object Object]\n",
    "# {\"image\":\"\n",
    "\n",
    "# Przygotowanie requestów\n",
    "url = \"https://face-liveness-detection3.p.rapidapi.com/api/liveness_base64\"\n",
    "key = \"5719b3ffa5msh94945ab740d3217p197d75jsn2f970af3cecc\"\n",
    "content_type = \"application/json\"\n",
    "accept = \"application/json\"\n",
    "ua = \"RapidAPI-Playground\"\n",
    "host = \"face-liveness-detection3.p.rapidapi.com\"\n",
    "\n",
    "i = 0\n",
    "\n",
    "for img in auth_files:\n",
    "    with open(img, \"rb\") as img_file:\n",
    "        img_base64 = base64.b64encode(img_file.read()).decode(\"utf-8\")\n",
    "        \n",
    "        headers = {\n",
    "            \"x-rapidapi-key\": key,\n",
    "            \"x-rapidapi-host\": host,\n",
    "            \"x-rapidapi-ua\": ua,\n",
    "            \"Content-Type\": content_type,\n",
    "            \"Accept\": accept\n",
    "        }\n",
    "        \n",
    "        data = {\n",
    "            \"image\": img_base64\n",
    "        }\n",
    "        \n",
    "        response = requests.post(url, headers=headers, json=data)\n",
    "        \n",
    "        # Zapis do pliku\n",
    "        with open(f\"wyniki/auth{i}.txt\", \"w\") as results:\n",
    "            results.write(f\"{img}: {response.text}\\n\")\n",
    "            \n",
    "        i += 1\n",
    "        \n",
    "        time.sleep(10)"
   ],
   "id": "deacbcbf02c0b7fb",
   "outputs": [],
   "execution_count": 10
  },
  {
   "metadata": {
    "ExecuteTime": {
     "end_time": "2024-11-29T20:48:30.068062Z",
     "start_time": "2024-11-29T18:13:15.613709Z"
    }
   },
   "cell_type": "code",
   "source": [
    "i = 0\n",
    "\n",
    "for img in spoof_files:\n",
    "    with open(img, \"rb\") as img_file:\n",
    "        img_base64 = base64.b64encode(img_file.read()).decode(\"utf-8\")\n",
    "\n",
    "        headers = {\n",
    "            \"x-rapidapi-key\": key,\n",
    "            \"x-rapidapi-host\": host,\n",
    "            \"x-rapidapi-ua\": ua,\n",
    "            \"Content-Type\": content_type,\n",
    "            \"Accept\": accept\n",
    "        }\n",
    "\n",
    "        data = {\n",
    "            \"image\": img_base64\n",
    "        }\n",
    "\n",
    "        response = requests.post(url, headers=headers, json=data)\n",
    "\n",
    "        # Zapis do pliku\n",
    "        with open(f\"wyniki/spoof{i}.txt\", \"w\") as results:\n",
    "            results.write(f\"{img}: {response.text}\\n\")\n",
    "\n",
    "        i += 1\n",
    "\n",
    "        time.sleep(10)"
   ],
   "id": "b933173bf5738103",
   "outputs": [],
   "execution_count": 11
  },
  {
   "metadata": {
    "ExecuteTime": {
     "end_time": "2024-11-30T12:39:50.490470Z",
     "start_time": "2024-11-30T12:39:50.420146Z"
    }
   },
   "cell_type": "code",
   "source": [
    "# Analiza wyników\n",
    "all_results = os.listdir(\"wyniki\")\n",
    "auth_acc = 0\n",
    "auth_total = 0\n",
    "spoof_acc = 0\n",
    "spoof_total = 0\n",
    "no_face_detected_total = 0\n",
    "\n",
    "for result in all_results:\n",
    "    with open(f\"wyniki/{result}\", \"r\") as file:\n",
    "        content = file.read()\n",
    "        \n",
    "        if \"no face detected!\" in content:\n",
    "            no_face_detected_total += 1\n",
    "            continue\n",
    "        \n",
    "        if \"auth\" in result:\n",
    "            if \"genuine\" in content:\n",
    "                auth_acc += 1\n",
    "            auth_total += 1\n",
    "        else:\n",
    "            if \"small face\" in content or \"spoof\" in content:\n",
    "                spoof_acc += 1\n",
    "            spoof_total += 1\n",
    "            \n",
    "print(\"Dla zdjęć autentycznych:\")\n",
    "print(f\"Poprawnie sklasyfikowano {auth_acc} na {auth_total}\")\n",
    "print(\"Dla zdjęć podstawionych:\")\n",
    "print(f\"Poprawnie sklasyfikowano {spoof_acc} na {spoof_total}\")\n",
    "print(f\"Nie wykryto twarzy na {no_face_detected_total} zdjęciach\")"
   ],
   "id": "f7487caa03475716",
   "outputs": [
    {
     "name": "stdout",
     "output_type": "stream",
     "text": [
      "Dla zdjęć autentycznych:\n",
      "Poprawnie sklasyfikowano 8 na 247\n",
      "Dla zdjęć podstawionych:\n",
      "Poprawnie sklasyfikowano 145 na 145\n",
      "Nie wykryto twarzy na 95 zdjęciach\n"
     ]
    }
   ],
   "execution_count": 12
  },
  {
   "metadata": {},
   "cell_type": "code",
   "outputs": [],
   "execution_count": null,
   "source": "",
   "id": "d5b5b4a0cc3c6980"
  }
 ],
 "metadata": {
  "kernelspec": {
   "display_name": "Python 3",
   "language": "python",
   "name": "python3"
  },
  "language_info": {
   "codemirror_mode": {
    "name": "ipython",
    "version": 2
   },
   "file_extension": ".py",
   "mimetype": "text/x-python",
   "name": "python",
   "nbconvert_exporter": "python",
   "pygments_lexer": "ipython2",
   "version": "2.7.6"
  }
 },
 "nbformat": 4,
 "nbformat_minor": 5
}
